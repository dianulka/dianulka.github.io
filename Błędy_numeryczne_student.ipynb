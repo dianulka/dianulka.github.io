{
  "cells": [
    {
      "cell_type": "markdown",
      "metadata": {
        "id": "view-in-github",
        "colab_type": "text"
      },
      "source": [
        "<a href=\"https://colab.research.google.com/github/dianulka/dianulka.github.io/blob/main/B%C5%82%C4%99dy_numeryczne_student.ipynb\" target=\"_parent\"><img src=\"https://colab.research.google.com/assets/colab-badge.svg\" alt=\"Open In Colab\"/></a>"
      ]
    },
    {
      "cell_type": "markdown",
      "id": "different-patrol",
      "metadata": {
        "id": "different-patrol"
      },
      "source": [
        "# Błędy numeryczne"
      ]
    },
    {
      "cell_type": "markdown",
      "id": "laughing-breeding",
      "metadata": {
        "id": "laughing-breeding"
      },
      "source": [
        "Zagadnienia:\n",
        "* Reprezentacja liczb w komputerze:\n",
        "    * Zapis stałoprzecinkowy,\n",
        "    * Zapis zmiennoprzecinkowy (standard IEEE 754),\n",
        "* Błędy numeryczne:\n",
        "    * Błąd względny i bezwzględny.\n",
        "    * Błąd zaokrąglenia (ang. *round-off error*).\n",
        "    * Błąd obcięcia (ang. *truncation error*).\n",
        "    * Błędy związane z przyjętym sposobem rozwiązywania."
      ]
    },
    {
      "cell_type": "markdown",
      "id": "rotary-frank",
      "metadata": {
        "id": "rotary-frank"
      },
      "source": [
        "## Błąd względny i bezwzględny"
      ]
    },
    {
      "cell_type": "markdown",
      "id": "actual-representation",
      "metadata": {
        "id": "actual-representation"
      },
      "source": [
        "***Zadanie 1.***  \n",
        "Liczbę $\\textrm{e}$ możemy zdefiniować jako $\\sum\\limits_{n=0}^{\\infty} \\frac{1}{n!}$. Oblicz błąd względny i bezwzględny aproksymacji liczby $\\textrm{e}$ poprzez $\\textrm{e}^{*}$ w przypadku gdy:  \n",
        "* $\\textrm{e}_1^{*}=\\sum\\limits_{n=0}^{5} \\frac{1}{n!}$    \n",
        "\n",
        "* $\\textrm{e}_2^{*}=\\sum\\limits_{n=0}^{10} \\frac{1}{n!}$  \n",
        "\n",
        "* $\\textrm{e}_3^{*}=\\sum\\limits_{n=0}^{20} \\frac{1}{n!}$  "
      ]
    },
    {
      "cell_type": "code",
      "execution_count": null,
      "id": "chinese-mathematics",
      "metadata": {
        "colab": {
          "base_uri": "https://localhost:8080/"
        },
        "id": "chinese-mathematics",
        "outputId": "32499f9a-8400-4c95-b791-6e2ce6c20a46"
      },
      "outputs": [
        {
          "output_type": "stream",
          "name": "stdout",
          "text": [
            "podpunkt a:2.7166666666666663\n",
            "błąd bezględny a: 0.0016151617923334527\n",
            "błąd względny a: 0.0005945380830675287\n",
            "2.7182818011463845\n",
            "2.7182818284590455\n"
          ]
        }
      ],
      "source": [
        "def silnia(n):\n",
        "    if n > 1:\n",
        "        return n*silnia(n-1)\n",
        "    return 1\n",
        "\n",
        "sum=0\n",
        "sum2=0\n",
        "sum3=0\n",
        "for i in range(0,6):\n",
        "    sum+= 1/silnia(i)\n",
        "print(f'podpunkt a:{sum}')\n",
        "print (f'błąd bezględny a: {abs(2.718281828459-sum)}')\n",
        "print (f'błąd względny a: {(abs(2.718281828459-sum))/sum}')\n",
        "\n",
        "for i in range(0,11):\n",
        "    sum2+= 1/silnia(i)\n",
        "print(sum2)\n",
        "\n",
        "for i in range(0,21):\n",
        "    sum3+= 1/silnia(i)\n",
        "print(sum3)\n",
        "\n"
      ]
    },
    {
      "cell_type": "markdown",
      "id": "fiscal-momentum",
      "metadata": {
        "id": "fiscal-momentum"
      },
      "source": [
        "## Zapis zmiennoprzecinkowy"
      ]
    },
    {
      "cell_type": "markdown",
      "id": "final-venezuela",
      "metadata": {
        "id": "final-venezuela"
      },
      "source": [
        "**Uwaga**: Używane tu pojęcie **cecha** ma inne znaczenie, niż poznane być może w szkole – skrótowo: „część całkowita”. Dlatego poniżej dodawane jest inne określenie – „wykładnik”."
      ]
    },
    {
      "cell_type": "code",
      "execution_count": null,
      "id": "painful-monitoring",
      "metadata": {
        "id": "painful-monitoring"
      },
      "outputs": [],
      "source": [
        "import numpy as np\n",
        "import matplotlib.pyplot as plt\n",
        "import sys\n",
        "import math"
      ]
    },
    {
      "cell_type": "code",
      "execution_count": null,
      "id": "collectible-survivor",
      "metadata": {
        "scrolled": true,
        "colab": {
          "base_uri": "https://localhost:8080/"
        },
        "id": "collectible-survivor",
        "outputId": "814ce2fa-ce6d-4d8e-e46f-d29bfb93de32"
      },
      "outputs": [
        {
          "output_type": "stream",
          "name": "stdout",
          "text": [
            "Machine parameters for float64\n",
            "---------------------------------------------------------------\n",
            "precision =  15   resolution = 1.0000000000000001e-15\n",
            "machep =    -52   eps =        2.2204460492503131e-16\n",
            "negep =     -53   epsneg =     1.1102230246251565e-16\n",
            "minexp =  -1022   tiny =       2.2250738585072014e-308\n",
            "maxexp =   1024   max =        1.7976931348623157e+308\n",
            "nexp =       11   min =        -max\n",
            "smallest_normal = 2.2250738585072014e-308   smallest_subnormal = 4.9406564584124654e-324\n",
            "---------------------------------------------------------------\n",
            "\n",
            "2.220446049250313e-16\n"
          ]
        }
      ],
      "source": [
        "print(np.finfo(float))\n",
        "eps = np.finfo(float).eps\n",
        "\n",
        "print(eps)"
      ]
    },
    {
      "cell_type": "markdown",
      "id": "registered-immigration",
      "metadata": {
        "id": "registered-immigration"
      },
      "source": [
        "***Zadanie 2.***\n",
        "\n",
        "\n",
        "a) Wstaw dowolną wartość do liczby x, np. 0.1. Które liczby mają tę samą mantysę, a które tę samą cechę (wykładnik)? Sprawdź wypisując ich wartości w formacie hex.\n"
      ]
    },
    {
      "cell_type": "markdown",
      "id": "sapphire-tuesday",
      "metadata": {
        "id": "sapphire-tuesday"
      },
      "source": [
        "**Uwaga:** Do odczytania liczby w formacie szesnastkowym możesz wykorzystać funkcję:"
      ]
    },
    {
      "cell_type": "code",
      "execution_count": null,
      "id": "concrete-webmaster",
      "metadata": {
        "colab": {
          "base_uri": "https://localhost:8080/"
        },
        "id": "concrete-webmaster",
        "outputId": "fd93c0a7-0720-46bd-86c8-0cc59b6b03c8"
      },
      "outputs": [
        {
          "output_type": "stream",
          "name": "stdout",
          "text": [
            "0x1.4000000000000p+0\n",
            "0x1.570a3d70a3d71p+0\n",
            "0x1.0000000000000p-1\n",
            "0x1\n",
            "0x1.399999999999ap+1\n",
            "0x1.62f694467381dp+2\n"
          ]
        }
      ],
      "source": [
        "print(1.25.hex())\n",
        "print(1.34.hex())\n",
        "print (0.5.hex())\n",
        "print (hex(1))\n",
        "print(2.45.hex())\n",
        "print(5.5463.hex())\n",
        "#In this representation:\n",
        "#Mantissa: 1.5b8737bc6c72e\n",
        "#Exponent: +2\n",
        "#So, for the number 5.5463, the mantissa is 1.5b8737bc6c72e, and the exponent is +2.\n",
        "#These components represent the number 5.5463 in a floating-point format as mantissa * 2^exponent.\n",
        "#In this case, 1.5b8737bc6c72e * 2^2 = 5.5463.\n",
        "\n"
      ]
    },
    {
      "cell_type": "code",
      "execution_count": null,
      "id": "96e3aec4",
      "metadata": {
        "id": "96e3aec4",
        "colab": {
          "base_uri": "https://localhost:8080/"
        },
        "outputId": "6050d5e2-80af-404a-fff3-8bffd0deaa89"
      },
      "outputs": [
        {
          "output_type": "stream",
          "name": "stdout",
          "text": [
            "0x1.3880000000000p+12\n",
            "0x1.999999999999ap-4\n",
            "0x1.d95108f882522p+108\n"
          ]
        }
      ],
      "source": [
        "print(5000.0.hex())\n",
        "print(0.1.hex())\n",
        "print(600000000000000000000000000000000.0.hex())"
      ]
    },
    {
      "cell_type": "markdown",
      "id": "constant-sphere",
      "metadata": {
        "id": "constant-sphere"
      },
      "source": [
        "lub"
      ]
    },
    {
      "cell_type": "code",
      "execution_count": null,
      "id": "humanitarian-somerset",
      "metadata": {
        "id": "humanitarian-somerset"
      },
      "outputs": [],
      "source": [
        "import struct\n",
        "def double_to_hex(f):\n",
        "    print(hex(struct.unpack('<Q', struct.pack('<d', f))[0]))"
      ]
    },
    {
      "cell_type": "code",
      "execution_count": null,
      "id": "regular-possibility",
      "metadata": {
        "scrolled": true,
        "id": "regular-possibility",
        "colab": {
          "base_uri": "https://localhost:8080/"
        },
        "outputId": "7535b4b5-8eee-4789-efd1-fbab92d59dac"
      },
      "outputs": [
        {
          "output_type": "stream",
          "name": "stdout",
          "text": [
            "0x3ff4000000000000\n"
          ]
        }
      ],
      "source": [
        "double_to_hex(1.25)"
      ]
    },
    {
      "cell_type": "markdown",
      "id": "heated-session",
      "metadata": {
        "id": "heated-session"
      },
      "source": [
        "Zamianę w drugą stronę można przeprowadzić za pomocą funkcji *int*"
      ]
    },
    {
      "cell_type": "code",
      "execution_count": null,
      "id": "three-butler",
      "metadata": {
        "colab": {
          "base_uri": "https://localhost:8080/"
        },
        "id": "three-butler",
        "outputId": "ab729899-a062-4528-c8fb-339324eab470"
      },
      "outputs": [
        {
          "output_type": "execute_result",
          "data": {
            "text/plain": [
              "256"
            ]
          },
          "metadata": {},
          "execution_count": 16
        }
      ],
      "source": [
        "int('3ff', 16)\n",
        "int('100',16)"
      ]
    },
    {
      "cell_type": "code",
      "execution_count": null,
      "id": "completed-vault",
      "metadata": {
        "id": "completed-vault"
      },
      "outputs": [],
      "source": []
    },
    {
      "cell_type": "markdown",
      "id": "higher-router",
      "metadata": {
        "id": "higher-router"
      },
      "source": [
        "\n",
        "\n",
        "b) Porównaj zapis liczb 0.1, 0.2 i 0.3 w formacie zmiennoprzecinkowym.\n",
        "\n",
        "* Czy można przewidzieć, czy suma 0.1 + 0.2 będzie reprezentowana dokładnie tak samo jak liczba 0.3?\n",
        "* Jaki będzie wynik porównania tej sumy z liczbą 0.3 i konsekwencje użycia warunku równościowego / nierównościowego w pętli?\n",
        "\n"
      ]
    },
    {
      "cell_type": "code",
      "execution_count": null,
      "id": "limiting-paradise",
      "metadata": {
        "id": "limiting-paradise"
      },
      "outputs": [],
      "source": [
        "In the IEEE 754 double-precision floating-point format, numbers like 0.1, 0.2, and 0.3 cannot be exactly represented. The reason for this is that these numbers have non-terminating binary expansions when converted to binary, and double-precision floating-point numbers have a limited number of bits to represent them. As a result, rounding errors occur, and the actual binary representations are approximations.\n"
      ]
    },
    {
      "cell_type": "markdown",
      "id": "brutal-windows",
      "metadata": {
        "id": "brutal-windows"
      },
      "source": [
        "c) Przyjmijmy, że „skrótowe” określenie *liczba dokładnie reprezentowana* oznacza liczbę, która jest reprezentowana w formacie zmiennoprzecinkowym dokładnie, tzn. bez konieczności zaokrąglania.\n",
        "* Ile jest liczb dokładnie reprezentowanych w przedziale $[1, 2)$?\n",
        "* Zaobserwuj (z pomocą formatu hex) jakie wartości mają bity w polu mantysy w przypadku liczby 1.0.\n",
        "* Jaką liczbę trzeba dodać do 1.0, aby tylko na najmłodszej pozycji pola mantysy pojawiło się 1?\n",
        "* Czy wyżej otrzymana suma jest najmniejszą liczbą dokładnie reprezentowana, spośród liczb większych od 1?\n",
        "* Jak przypuszczasz, jakie wartości będą miały poszczególne bity mantysy w przypadku największej liczby dokładnie reprezentowanej, której cecha (wykładnik) jest równy 0? Sprawdź, czy tak jest rzeczywiście – wpisując wartość tej liczby (jaka to jest wartość?).\n"
      ]
    },
    {
      "cell_type": "code",
      "execution_count": null,
      "id": "operating-cotton",
      "metadata": {
        "id": "operating-cotton",
        "colab": {
          "base_uri": "https://localhost:8080/",
          "height": 140
        },
        "outputId": "2962d3d5-3b76-4e89-ee4c-1c4402d4930f"
      },
      "outputs": [
        {
          "output_type": "error",
          "ename": "SyntaxError",
          "evalue": "ignored",
          "traceback": [
            "\u001b[0;36m  File \u001b[0;32m\"<ipython-input-23-079f0ade3102>\"\u001b[0;36m, line \u001b[0;32m5\u001b[0m\n\u001b[0;31m    * dla najwiekszego numeru wszystkie bity mantysy będą 1 1.9999999999999998 to liczba nawieksza dokladnie reprezentowana\u001b[0m\n\u001b[0m          ^\u001b[0m\n\u001b[0;31mSyntaxError\u001b[0m\u001b[0;31m:\u001b[0m invalid syntax\n"
          ]
        }
      ],
      "source": [
        "#* 2^52\n",
        "#* 0000000000000\n",
        "#* 2^-52\n",
        "#* tak\n",
        "#* dla najwiekszego numeru wszystkie bity mantysy będą 1 to dziesiętnie liczba 1.9999999999999998 to liczba nawieksza dokladnie reprezentowana\n"
      ]
    },
    {
      "cell_type": "markdown",
      "id": "straight-institute",
      "metadata": {
        "id": "straight-institute"
      },
      "source": [
        "d) Oblicz długości przedziałów, do których należą wszystkie liczby mające cechę (wykładnik) równy: 0, 1, 2, 5, -1, -3.\n",
        "\n",
        "* Czy w każdym z tych przedziałów jest tyle samo liczb dokładnie reprezentowanych? Jeżeli nie, to ile w każdym z nich?\n",
        "* Jaka jest odległość między dwoma sąsiednimi liczbami dokładnie reprezentowanymi (odległość, czyli różnica ich wartości) w każdym z tych przedziałów?\n",
        "* Jaki jest maksymalny błąd bezwzględny zaokrąglenia w każdym z tych przedziałów?\n",
        "* Jaki jest maksymalny błąd względny zaokrąglenia w każdym z tych przedziałów?\n",
        "\n",
        "\n",
        "\n"
      ]
    },
    {
      "cell_type": "code",
      "execution_count": null,
      "id": "confirmed-stream",
      "metadata": {
        "id": "confirmed-stream"
      },
      "outputs": [],
      "source": [
        "# 0: [1,2],odleglosc:2^-52, bb: 2^-53 ,\n",
        "# 1: [2,4],odleglosc:2^-51, bb: 2^-52,\n",
        "# 2: [4,8],odleglosc: 2^-50, bb: 2^-51,\n",
        "# 5: [32,64],odleglosc: 2^-47, bb: 2^-48,\n",
        "# -1: [1/2,1],odleglosc: 2^-53, bb: 2^-54,\n",
        "# -3: [1/8,1/4],odleglosc:2^-55, bb: 2^-56,\n",
        "#liczba liczb dokładnie reprezentowanych w każdym przedziale powstałym w wyniku tego mnożenia jest taka sama (2^52),ale szerokość przedziałów rośnie w miaręoddalaniasięodzera\n",
        "#bw: 2^-53 dla wszystkich\n"
      ]
    },
    {
      "cell_type": "markdown",
      "id": "toxic-sixth",
      "metadata": {
        "id": "toxic-sixth"
      },
      "source": [
        "***Zadanie 3.***\n",
        "\n",
        "Spójrz na poniższe zjawiska, zastanów się nad ich przyczynami."
      ]
    },
    {
      "cell_type": "markdown",
      "id": "further-freedom",
      "metadata": {
        "id": "further-freedom"
      },
      "source": [
        "***Problem skali***"
      ]
    },
    {
      "cell_type": "markdown",
      "id": "removable-victory",
      "metadata": {
        "id": "removable-victory"
      },
      "source": [
        "Jaki wynika da poniższy kod:"
      ]
    },
    {
      "cell_type": "code",
      "execution_count": null,
      "id": "adjusted-delivery",
      "metadata": {
        "id": "adjusted-delivery",
        "colab": {
          "base_uri": "https://localhost:8080/"
        },
        "outputId": "0d56af4e-b77a-4ec1-f1f2-7fe40888b4ec"
      },
      "outputs": [
        {
          "output_type": "stream",
          "name": "stdout",
          "text": [
            "1.00000000000000000\n"
          ]
        }
      ],
      "source": [
        "a = 1.0\n",
        "b = 0.0000000000000000000000001\n",
        "c = a + b\n",
        "print(f'{c:.17f}')"
      ]
    },
    {
      "cell_type": "markdown",
      "id": "secret-raise",
      "metadata": {
        "id": "secret-raise"
      },
      "source": [
        "***Problem reprezentacji w zapisie binarnym***"
      ]
    },
    {
      "cell_type": "code",
      "execution_count": null,
      "id": "f6596f1a",
      "metadata": {
        "id": "f6596f1a",
        "colab": {
          "base_uri": "https://localhost:8080/"
        },
        "outputId": "0d7fd2f4-7087-43bc-c76b-7a8460ea7016"
      },
      "outputs": [
        {
          "output_type": "stream",
          "name": "stdout",
          "text": [
            "False\n"
          ]
        }
      ],
      "source": [
        "if 0.1+0.2==0.3:\n",
        "    print(\"True\")\n",
        "else:\n",
        "    print(\"False\")"
      ]
    },
    {
      "cell_type": "code",
      "execution_count": null,
      "id": "cross-ranch",
      "metadata": {
        "id": "cross-ranch",
        "colab": {
          "base_uri": "https://localhost:8080/"
        },
        "outputId": "e14cdd8a-eeab-4b47-871c-0afeca85871a"
      },
      "outputs": [
        {
          "output_type": "stream",
          "name": "stdout",
          "text": [
            "9.999999999999980\n"
          ]
        }
      ],
      "source": [
        "suma = 0\n",
        "for i in range(0,100):\n",
        "    suma += 0.1\n",
        "print(f'{suma:.15f}')"
      ]
    },
    {
      "cell_type": "markdown",
      "id": "56086598",
      "metadata": {
        "id": "56086598"
      },
      "source": [
        "**Zadanie 4.**"
      ]
    },
    {
      "cell_type": "markdown",
      "id": "35804ff5",
      "metadata": {
        "id": "35804ff5"
      },
      "source": [
        "Niech:\n",
        "* $a=0.3$\n",
        "* $b=10^{-13}$\n",
        "* $c=a-b$\n",
        "* $d=a-c$\n",
        "\n",
        "Czy $b$ i $d$ są sobie równe w sensie analitycznym? Co z przypadkiem numerycznym? Zdefiniuj odpowiednie zmienne i porównaj wyniki. Porównaj szesnastkowe i dziesietne reprezentacje zmiennych `b` i `d`. Ile cyfr w reprezentacji `d` możemy uznać za wiarygodne?"
      ]
    },
    {
      "cell_type": "code",
      "execution_count": null,
      "id": "47593036",
      "metadata": {
        "id": "47593036",
        "colab": {
          "base_uri": "https://localhost:8080/"
        },
        "outputId": "bf0a71bb-6095-4448-d08a-6a14f5628f4e"
      },
      "outputs": [
        {
          "output_type": "stream",
          "name": "stdout",
          "text": [
            "1e-13\n",
            "9.947598300641403e-14\n"
          ]
        }
      ],
      "source": [
        "#w sensie analitycznym tak\n",
        "a=10\n",
        "b=1e-13\n",
        "c=a-b\n",
        "d=a-c\n",
        "print (b)\n",
        "print (d)"
      ]
    },
    {
      "cell_type": "markdown",
      "id": "57bcce2e",
      "metadata": {
        "id": "57bcce2e"
      },
      "source": [
        "**Zadanie 5.**"
      ]
    },
    {
      "cell_type": "markdown",
      "id": "33dd498c",
      "metadata": {
        "id": "33dd498c"
      },
      "source": [
        "Rozważmy macierz kwadratową:\n",
        "$$ A=\\left[\\begin{array}{ccc}\n",
        "\\sqrt{2} & \\frac{1}{7}\\\\\n",
        "\\pi\\sqrt{2} &\\frac{\\pi}{7}\\\\\n",
        "\\end{array}\\right]\n",
        "$$\n",
        "* Czy jest to macierz osobliwa? Jak to sprawdzić?\n",
        "* Oblicz wyznacznik tej macierzy w sposób analityczny i numeryczny (`np.linalg.det`). Czy otrzymałeś te same wartości? Czy wyniki obliczeń numerycznych prowadzą do poprawnej odpowiedzi na pierwsze pytanie? Jakie może to mieć skutki?"
      ]
    },
    {
      "cell_type": "code",
      "execution_count": null,
      "id": "7b46d638",
      "metadata": {
        "id": "7b46d638",
        "colab": {
          "base_uri": "https://localhost:8080/"
        },
        "outputId": "73c80c47-8543-4435-afef-cb8bc6a857c6"
      },
      "outputs": [
        {
          "output_type": "stream",
          "name": "stdout",
          "text": [
            "0.0\n",
            "-4.4406309532709394e-10\n"
          ]
        }
      ],
      "source": [
        "#jesli det(A)=0\n",
        "# analitycznie: 0\n",
        "import math\n",
        "A = np.array(([math.sqrt(2),1/7],[math.sqrt(2)*3.14,3.14/7]))\n",
        "B = np.array(([math.sqrt(2),1/7+0.0000000001],[math.sqrt(2)*3.14,3.14/7]))\n",
        "print(np.linalg.det(A))\n",
        "print(np.linalg.det(B))\n",
        "#tak, cos o zlym uwarunkowaniu chb"
      ]
    },
    {
      "cell_type": "markdown",
      "id": "4db8468c",
      "metadata": {
        "id": "4db8468c"
      },
      "source": [
        "**Zadanie 6.**"
      ]
    },
    {
      "cell_type": "markdown",
      "id": "e1f226f5",
      "metadata": {
        "id": "e1f226f5"
      },
      "source": [
        "Jedną z metod rozwiązywania równań nieliniowych jest metoda Newtona. Metoda ta powtarza obliczenia, aż spełniony nie będzie warunek stopu. Jeżeli spełnione są odpowiednie założenia to metoda ta zbiega do rozwiązania. Załóżmy, że warunki są spełnione i rozważmy funkcję $f(x)=cos(x)-x$. Poniżej znajdziesz implementację metody Newtona, w której brakuje warunku stopu. Spróbuj go uzupełnić. Warunek powinien być spełniony w momencie, w którym chcemy zakończyć działanie procedury.\n",
        "\n",
        "Z matematycznego punktu widzenia znajdujemy się w zerze, jeżeli kolejne przybliżenia uzyskane z metody Newtona nie różnią się od siebie (np. dwa ostatnie). Zaimplementuj taki warunek i sprawdź, czy program zatrzyma się. Czy taki warunek stopu jest bezpieczny i można go stosować uniwersalnie? Jak można go poprawić?"
      ]
    },
    {
      "cell_type": "code",
      "execution_count": null,
      "id": "26eb839f",
      "metadata": {
        "id": "26eb839f"
      },
      "outputs": [],
      "source": [
        "def newton(f, f_prim, x_0):\n",
        "    x_prev = x_0\n",
        "    while True:\n",
        "        x_n=x_prev-(f(x_prev)/f_prim(x_prev))\n",
        "        print(f'x_0={x_n}')\n",
        "        double_to_hex(x_n)\n",
        "        #double_to_hex(x_prev)\n",
        "\n",
        "\n",
        "        if abs(x_n - x_prev) == 0: # Zastąp True swoim warunkiem stopu\n",
        "            return x_n\n",
        "        else:\n",
        "            x_prev=x_n"
      ]
    },
    {
      "cell_type": "code",
      "execution_count": null,
      "id": "8c8e359e",
      "metadata": {
        "id": "8c8e359e"
      },
      "outputs": [],
      "source": [
        "def f(x):\n",
        "    return math.cos(x)-x # Uzupełnij definicję funkcji\n",
        "\n",
        "def f_prim(x):\n",
        "    return -math.sin(x) - 1# Uzupełnij definicję pochodnej"
      ]
    },
    {
      "cell_type": "code",
      "execution_count": null,
      "id": "03aa3df9",
      "metadata": {
        "id": "03aa3df9",
        "colab": {
          "base_uri": "https://localhost:8080/",
          "height": 192
        },
        "outputId": "6c413a8c-8285-48d9-df73-e726e241ae53"
      },
      "outputs": [
        {
          "output_type": "error",
          "ename": "TypeError",
          "evalue": "ignored",
          "traceback": [
            "\u001b[0;31m---------------------------------------------------------------------------\u001b[0m",
            "\u001b[0;31mTypeError\u001b[0m                                 Traceback (most recent call last)",
            "\u001b[0;32m<ipython-input-58-e9c222aa3e23>\u001b[0m in \u001b[0;36m<cell line: 1>\u001b[0;34m()\u001b[0m\n\u001b[0;32m----> 1\u001b[0;31m \u001b[0mnewton\u001b[0m\u001b[0;34m(\u001b[0m\u001b[0mx_0\u001b[0m\u001b[0;34m=\u001b[0m\u001b[0;36m1\u001b[0m\u001b[0;34m)\u001b[0m\u001b[0;34m\u001b[0m\u001b[0;34m\u001b[0m\u001b[0m\n\u001b[0m\u001b[1;32m      2\u001b[0m \u001b[0;31m#\u001b[0m\u001b[0;34m\u001b[0m\u001b[0;34m\u001b[0m\u001b[0m\n",
            "\u001b[0;31mTypeError\u001b[0m: newton() missing 2 required positional arguments: 'f' and 'f_prim'"
          ]
        }
      ],
      "source": [
        "newton(f,f_prim, 1)\n",
        "#\n"
      ]
    },
    {
      "cell_type": "markdown",
      "id": "republican-insider",
      "metadata": {
        "id": "republican-insider"
      },
      "source": [
        "**Zadanie domowe**  \n",
        "\n",
        "Dany jest ciąg:  \n",
        "  \n",
        "$G(p)=\\cfrac{1}{p}\\left[10^{p}\\left(1+p\\pi^{*} \\cdot 10^{-p}\\right)-10^{p}\\right],\\ p=1,2,3,\\dots,n $,\n",
        "w którym $\\pi^{*}$ jest przybliżeniem liczby $\\pi$ z dokładnością do 15 miejsc po przecinku.\n",
        "  \n",
        "Stwórz funkcję, która umożliwi obliczenie $n$ pierwszych wyrazów tego ciągu i zwróci je w postaci wektora (do przybliżenia wartości $\\pi$ możesz wykorzystać funkcję *[round](https://numpy.org/doc/stable/reference/generated/numpy.round_.html)*). Oblicz błąd bezwzględny i błąd względny otrzymanych wyników. Przedstaw rezultaty na wykresie w zależności od $n$. Wartości błędów przedstaw w skali logarytmicznej (funkcja *plt.semilogy()*).\n",
        "\n",
        "Przeanalizuj rozwiązanie i odpowiedz na następujące pytania:  \n",
        "* Czy w obliczeniach analitycznych wartość $G(p)$ zależy od $p$?\n",
        "* Jak zmienia się błąd w zależności od $n$? O czym to świadczy?\n",
        "* Z jakim/jakimi rodzajami błędu mamy do czynienie?\n"
      ]
    },
    {
      "cell_type": "code",
      "execution_count": null,
      "id": "regular-malpractice",
      "metadata": {
        "id": "regular-malpractice",
        "colab": {
          "base_uri": "https://localhost:8080/"
        },
        "outputId": "9ae0f69b-184e-483b-c30e-537a02a617f7"
      },
      "outputs": [
        {
          "output_type": "stream",
          "name": "stdout",
          "text": [
            "[3.1400000000000006, 3.1400000000000006, 3.1399999999999864, 3.1399999999998727, 3.139999999999418]\n",
            "[0.0015926535897925476, 0.0015926535897925476, 0.0015926535898067584, 0.0015926535899204453, 0.0015926535903751926]\n",
            "[0.0005069573828970715, 0.0005069573828970715, 0.0005069573829015949, 0.0005069573829377825, 0.0005069573830825332]\n"
          ]
        }
      ],
      "source": [
        "#nie, wszedzie pi wychodzi\n",
        "def calculate_sequence(n):\n",
        "    pi_gwiazdka = round(math.pi, 2)\n",
        "    sequence = []\n",
        "\n",
        "    for p in range(1, n + 1):\n",
        "        term = (1 / p) *( (10 ** p) * (1 + p * pi_gwiazdka * (10 ** -p)) - 10 ** p)\n",
        "        sequence.append(term)\n",
        "\n",
        "    return sequence\n",
        "\n",
        "n = 5  # Replace with the desired number of terms\n",
        "result = calculate_sequence(n)\n",
        "\n",
        "print(result)\n",
        "bezwzgl = []\n",
        "wzgl=[]\n",
        "\n",
        "for value in result:\n",
        "  bezwzgl.append((np.pi-value)) #bezwzgledny\n",
        "  wzgl.append((np.pi-value)/np.pi)\n",
        "\n",
        "\n",
        "print(bezwzgl)\n",
        "print(wzgl)\n",
        "\n",
        "\n",
        "\n"
      ]
    },
    {
      "cell_type": "code",
      "source": [],
      "metadata": {
        "id": "y3EuppeLXTaU"
      },
      "id": "y3EuppeLXTaU",
      "execution_count": null,
      "outputs": []
    }
  ],
  "metadata": {
    "kernelspec": {
      "display_name": "Python 3 (ipykernel)",
      "language": "python",
      "name": "python3"
    },
    "language_info": {
      "codemirror_mode": {
        "name": "ipython",
        "version": 3
      },
      "file_extension": ".py",
      "mimetype": "text/x-python",
      "name": "python",
      "nbconvert_exporter": "python",
      "pygments_lexer": "ipython3",
      "version": "3.11.4"
    },
    "colab": {
      "provenance": [],
      "include_colab_link": true
    }
  },
  "nbformat": 4,
  "nbformat_minor": 5
}